{
 "cells": [
  {
   "cell_type": "markdown",
   "metadata": {},
   "source": "# Julia\n\nThis example demonstrates how to use BlackJAX nested sampling with Julia implementations of likelihood and prior functions. Due to threading incompatibility between Julia and JAX's `pure_callback`, Julia runs in a separate process with JSON-RPC communication.\n\n## Prerequisites\n\nInstall the required Python packages:\n```bash\npip install git+https://github.com/handley-lab/blackjax\npip install numpy tqdm\n```\n\nInstall Julia and required packages:\n```julia\nusing Pkg\nPkg.add([\"Distributions\", \"JSON\", \"Base64\"])\n```\n\n## Setup Instructions\n\n### 1. Create the Julia server\n\nFirst, create a file `julia_server.jl` with the RPC server and your likelihood/prior functions:"
  },
  {
   "cell_type": "markdown",
   "execution_count": null,
   "metadata": {},
   "outputs": [],
   "source": "```julia\n# julia_server.jl\nusing LinearAlgebra, Distributions, JSON, Base64\n\nfunction loglikelihood(theta)\n    # theta is a matrix where each row is a parameter vector\n    theta = convert(Matrix{Float64}, theta)\n    dist = MvNormal(ones(5), 0.01 * I(5))\n    return [logpdf(dist, theta[i, :]) for i in 1:size(theta, 1)]\nend\n\nfunction logprior(theta)\n    # theta is a matrix where each row is a parameter vector\n    theta = convert(Matrix{Float64}, theta)\n    dist = MvNormal(zeros(5), I(5))\n    return [logpdf(dist, theta[i, :]) for i in 1:size(theta, 1)]\nend\n\n# JSON-RPC server\nfunction serve()\n    while true\n        try\n            line = readline()\n            request = JSON.parse(line)\n            \n            method = request[\"method\"]\n            params = request[\"params\"]\n            \n            if method == \"loglikelihood\"\n                # Decode base64 array\n                theta = reinterpret(Float64, base64decode(params[\"data\"]))\n                theta = reshape(theta, params[\"shape\"][2], params[\"shape\"][1])'\n                result = loglikelihood(theta)\n            elseif method == \"logprior\"\n                # Decode base64 array\n                theta = reinterpret(Float64, base64decode(params[\"data\"]))\n                theta = reshape(theta, params[\"shape\"][2], params[\"shape\"][1])'\n                result = logprior(theta)\n            elseif method == \"ping\"\n                result = \"pong\"\n            else\n                error(\"Unknown method: $method\")\n            end\n            \n            response = Dict(\"id\" => request[\"id\"], \"result\" => result)\n            println(JSON.json(response))\n            flush(stdout)\n        catch e\n            if isa(e, EOFError)\n                break\n            else\n                response = Dict(\"id\" => get(request, \"id\", nothing), \"error\" => string(e))\n                println(JSON.json(response))\n                flush(stdout)\n            end\n        end\n    end\nend\n\nserve()\n```\n\nSave this as `julia_server.jl` in your working directory.\n\n### 2. Run nested sampling with Julia functions\n\n**Note:** Due to threading incompatibility, Julia runs in a separate process. This adds communication overhead, making it slower than direct integrations but still useful for leveraging Julia's scientific computing ecosystem."
  },
  {
   "cell_type": "code",
   "source": "import jax\nimport jax.numpy as jnp\nimport blackjax\nfrom blackjax.ns.utils import finalise\nimport tqdm\nimport numpy as np\nimport subprocess\nimport json\nimport base64\nimport atexit\n\nrng_key = jax.random.PRNGKey(0)\n\n# Start Julia server\njulia_process = subprocess.Popen(\n    ['julia', 'julia_server.jl'],\n    stdin=subprocess.PIPE,\n    stdout=subprocess.PIPE,\n    stderr=subprocess.PIPE,\n    text=True,\n    bufsize=1\n)\n\n# Register cleanup\natexit.register(lambda: julia_process.terminate())\n\n# Counter for RPC request IDs\nrequest_id = [0]\n\ndef julia_rpc(method, theta):\n    \"\"\"Send RPC request to Julia and get response\"\"\"\n    theta_np = np.asarray(theta, dtype=np.float64)\n    \n    # Encode array as base64\n    theta_bytes = theta_np.tobytes()\n    theta_b64 = base64.b64encode(theta_bytes).decode('ascii')\n    \n    # Create request\n    request_id[0] += 1\n    request = {\n        \"id\": request_id[0],\n        \"method\": method,\n        \"params\": {\n            \"data\": theta_b64,\n            \"shape\": list(theta_np.shape)\n        }\n    }\n    \n    # Send request\n    julia_process.stdin.write(json.dumps(request) + '\\n')\n    julia_process.stdin.flush()\n    \n    # Get response\n    response_line = julia_process.stdout.readline()\n    response = json.loads(response_line)\n    \n    if \"error\" in response:\n        raise RuntimeError(f\"Julia error: {response['error']}\")\n    \n    return np.array(response[\"result\"], dtype=np.float64)\n\ndef wrap_fn(method, vmap_method='legacy_vectorized'):\n    def numpy_wrapper(theta):\n        return julia_rpc(method, theta)\n    \n    def jax_wrapper(x):\n        out_shape = jax.ShapeDtypeStruct(x.shape[:-1], x.dtype)\n        return jax.pure_callback(numpy_wrapper, out_shape, x, vmap_method=vmap_method)\n    \n    return jax_wrapper\n\nloglikelihood_fn = wrap_fn(\"loglikelihood\")\nlogprior_fn = wrap_fn(\"logprior\")\n\nalgo = blackjax.nss(\n    logprior_fn=logprior_fn,\n    loglikelihood_fn=loglikelihood_fn,\n    num_delete=50,\n    num_inner_steps=20,\n)\n\nrng_key, sampling_key, initialization_key = jax.random.split(rng_key, 3)\nlive = algo.init(jax.random.normal(initialization_key, (1000, 5)))\nstep = jax.jit(algo.step)\n\ndead_points = []\n\nwith tqdm.tqdm(desc=\"Dead points\", unit=\" dead points\") as pbar:\n    while (not live.logZ_live - live.logZ < -3):\n        rng_key, subkey = jax.random.split(rng_key)\n        live, dead = step(subkey, live)\n        dead_points.append(dead)\n        pbar.update(len(dead.particles))\n\nns_run = finalise(live, dead_points)\n\n# Clean up Julia process\njulia_process.terminate()",
   "metadata": {},
   "execution_count": null,
   "outputs": []
  }
 ],
 "metadata": {
  "kernelspec": {
   "display_name": ".venv",
   "language": "python",
   "name": "python3"
  },
  "language_info": {
   "codemirror_mode": {
    "name": "ipython",
    "version": 3
   },
   "file_extension": ".py",
   "mimetype": "text/x-python",
   "name": "python",
   "nbconvert_exporter": "python",
   "pygments_lexer": "ipython3",
   "version": "3.13.2"
  }
 },
 "nbformat": 4,
 "nbformat_minor": 2
}