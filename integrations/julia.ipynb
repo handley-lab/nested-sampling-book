{
 "cells": [
  {
   "cell_type": "markdown",
   "metadata": {},
   "source": "# Julia\n\nThis example demonstrates how to use BlackJAX nested sampling with Julia implementations of likelihood and prior functions. Julia code is called via JSON-RPC in a separate process to avoid threading conflicts.\n\n## Prerequisites\n\nInstall the required Python packages:\n```bash\npip install git+https://github.com/handley-lab/blackjax\npip install numpy tqdm\n```\n\nInstall Julia and the required Julia packages:\n```julia\nusing Pkg\nPkg.add(\"LinearAlgebra\")\nPkg.add(\"Distributions\")\nPkg.add(\"JSON\")\n```\n\n## Setup Instructions\n\n### 1. Create the model file\n\nCreate a file `model.jl` with your likelihood and prior functions:\n\n```julia\nusing LinearAlgebra\nusing Distributions\n\nfunction loglikelihood(theta)\n    theta = convert(Matrix{Float64}, theta)\n    dist = MvNormal(ones(5), 0.01 * I(5))\n    return [logpdf(dist, theta[i, :]) for i in 1:size(theta, 1)]\nend\n\nfunction logprior(theta)\n    theta = convert(Matrix{Float64}, theta)\n    dist = MvNormal(zeros(5), I(5))\n    return [logpdf(dist, theta[i, :]) for i in 1:size(theta, 1)]\nend\n```\n\n### 2. Create the RPC server\n\nCreate a file `julia_server.jl` to handle RPC communication:\n\n```julia\nusing JSON\nusing Base64\n\n# Include the model functions\ninclude(\"model.jl\")\n\n# Simple request/response loop\nwhile true\n    try\n        line = readline()\n        if isempty(line)\n            break\n        end\n        \n        request = JSON.parse(line)\n        func_name = request[\"function\"]\n        \n        # Decode base64 numpy array\n        theta_bytes = base64decode(request[\"data\"])\n        theta = reinterpret(Float64, theta_bytes)\n        rows = request[\"rows\"]\n        cols = request[\"cols\"]\n        theta = reshape(theta, cols, rows)'  # Transpose for column-major\n        \n        # Call function\n        if func_name == \"loglikelihood\"\n            result = loglikelihood(theta)\n        elseif func_name == \"logprior\"\n            result = logprior(theta)\n        else\n            error(\"Unknown function: $func_name\")\n        end\n        \n        # Send response\n        response = Dict(\"result\" => result)\n        println(JSON.json(response))\n        flush(stdout)\n    catch e\n        println(JSON.json(Dict(\"error\" => string(e))))\n        flush(stdout)\n    end\nend\n```\n\n### 3. Run nested sampling with Julia functions"
  },
  {
   "cell_type": "code",
   "execution_count": null,
   "metadata": {},
   "outputs": [],
   "source": "import jax\nimport jax.numpy as jnp\nimport blackjax\nfrom blackjax.ns.utils import finalise\nimport tqdm\nimport numpy as np\nimport subprocess\nimport json\nimport base64\n\njulia_proc = subprocess.Popen(\n    ['julia', 'julia_server.jl'],\n    stdin=subprocess.PIPE,\n    stdout=subprocess.PIPE,\n    stderr=subprocess.PIPE,\n    text=True,\n    bufsize=1\n)\n\ndef call_julia_rpc(func_name, theta):\n    theta = np.ascontiguousarray(theta, dtype=np.float64)\n    \n    theta_bytes = theta.tobytes()\n    theta_b64 = base64.b64encode(theta_bytes).decode('ascii')\n    \n    request = {\n        'function': func_name,\n        'data': theta_b64,\n        'rows': theta.shape[0],\n        'cols': theta.shape[1]\n    }\n    julia_proc.stdin.write(json.dumps(request) + '\\n')\n    julia_proc.stdin.flush()\n    \n    response = json.loads(julia_proc.stdout.readline())\n    if 'error' in response:\n        raise RuntimeError(f\"Julia error: {response['error']}\")\n    \n    return np.array(response['result'])\n\ndef wrap_fn(func_name, vmap_method='legacy_vectorized'):\n    def numpy_wrapper(theta):\n        return call_julia_rpc(func_name, np.asarray(theta))\n    \n    def jax_wrapper(x):\n        out_shape = jax.ShapeDtypeStruct(x.shape[:-1], x.dtype)\n        return jax.pure_callback(numpy_wrapper, out_shape, x, vmap_method=vmap_method)\n    \n    return jax_wrapper\n\nrng_key = jax.random.PRNGKey(0)\n\nloglikelihood_fn = wrap_fn('loglikelihood')\nlogprior_fn = wrap_fn('logprior')\n\nprint(\"Testing Julia RPC...\")\ntest_theta = np.ones((5, 5))\nresult = call_julia_rpc('loglikelihood', test_theta)\nprint(f\"Test successful: {result[:3]}\")\n\nalgo = blackjax.nss(\n    logprior_fn=logprior_fn,\n    loglikelihood_fn=loglikelihood_fn,\n    num_delete=50,\n    num_inner_steps=20,\n)\n\nrng_key, sampling_key, initialization_key = jax.random.split(rng_key, 3)\nlive = algo.init(jax.random.normal(initialization_key, (1000, 5)))\nstep = jax.jit(algo.step)\n\ndead_points = []\n\nwith tqdm.tqdm(desc=\"Dead points\", unit=\" dead points\") as pbar:\n    while (not live.logZ_live - live.logZ < -3):\n        rng_key, subkey = jax.random.split(rng_key)\n        live, dead = step(subkey, live)\n        dead_points.append(dead)\n        pbar.update(len(dead.particles))\n\nns_run = finalise(live, dead_points)\n\njulia_proc.terminate()"
  }
 ],
 "metadata": {
  "kernelspec": {
   "display_name": ".venv",
   "language": "python",
   "name": "python3"
  },
  "language_info": {
   "codemirror_mode": {
    "name": "ipython",
    "version": 3
   },
   "file_extension": ".py",
   "mimetype": "text/x-python",
   "name": "python",
   "nbconvert_exporter": "python",
   "pygments_lexer": "ipython3",
   "version": "3.13.2"
  }
 },
 "nbformat": 4,
 "nbformat_minor": 2
}