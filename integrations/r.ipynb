{
 "cells": [
  {
   "cell_type": "markdown",
   "metadata": {},
   "source": "# R\n\nThis example demonstrates how to use BlackJAX nested sampling with R implementations of likelihood and prior functions. The R code is called via `rpy2` bridge, with JAX's `pure_callback` providing the interface.\n\n## Prerequisites\n\nInstall the required Python packages:\n```bash\npip install git+https://github.com/handley-lab/blackjax\npip install rpy2 numpy tqdm\n```\n\nInstall the required R package:\n```r\ninstall.packages('mvtnorm')\n```"
  },
  {
   "cell_type": "code",
   "execution_count": null,
   "metadata": {},
   "outputs": [],
   "source": "import jax\nimport jax.numpy as jnp\nimport blackjax\nfrom blackjax.ns.utils import finalise\nimport tqdm\nimport numpy as np\nimport rpy2.robjects as ro\nfrom rpy2.robjects import numpy2ri\nfrom rpy2.robjects.conversion import localconverter\n\nrng_key = jax.random.PRNGKey(0)\n\n# Load R's mvtnorm library\nro.r('library(mvtnorm)')\n\n# Define R functions for likelihood and prior\nro.r('''\nloglikelihood <- function(theta) {\n    # theta is a matrix where each row is a parameter vector\n    if (is.vector(theta)) {\n        theta <- matrix(theta, nrow = 1)\n    }\n    # Compute log likelihood for multivariate normal\n    # mean = rep(1, 5), sigma = 0.01 * I\n    dmvnorm(theta, mean = rep(1, 5), sigma = 0.01 * diag(5), log = TRUE)\n}\n\nlogprior <- function(theta) {\n    # theta is a matrix where each row is a parameter vector\n    if (is.vector(theta)) {\n        theta <- matrix(theta, nrow = 1)\n    }\n    # Compute log prior for standard multivariate normal\n    # mean = 0, sigma = I\n    dmvnorm(theta, mean = rep(0, 5), sigma = diag(5), log = TRUE)\n}\n''')\n\n# Get R functions\nr_loglikelihood = ro.globalenv['loglikelihood']\nr_logprior = ro.globalenv['logprior']\n\ndef wrap_fn(fn, vmap_method='legacy_vectorized'):\n    def numpy_wrapper(theta):\n        theta_np = np.asarray(theta)\n        with localconverter(ro.default_converter + numpy2ri.converter):\n            result = fn(theta_np)\n            return np.asarray(result)\n    \n    def jax_wrapper(x):\n        out_shape = jax.ShapeDtypeStruct(x.shape[:-1], x.dtype)\n        return jax.pure_callback(numpy_wrapper, out_shape, x, vmap_method=vmap_method)\n    \n    return jax_wrapper\n\nloglikelihood_fn = wrap_fn(r_loglikelihood)\nlogprior_fn = wrap_fn(r_logprior)\n\nalgo = blackjax.nss(\n    logprior_fn=logprior_fn,\n    loglikelihood_fn=loglikelihood_fn,\n    num_delete=50,\n    num_inner_steps=20,\n)\n\nrng_key, sampling_key, initialization_key = jax.random.split(rng_key, 3)\nlive = algo.init(jax.random.normal(initialization_key, (1000, 5)))\nstep = jax.jit(algo.step)\n\ndead_points = []\n\nwith tqdm.tqdm(desc=\"Dead points\", unit=\" dead points\") as pbar:\n    while (not live.logZ_live - live.logZ < -3):\n        rng_key, subkey = jax.random.split(rng_key)\n        live, dead = step(subkey, live)\n        dead_points.append(dead)\n        pbar.update(len(dead.particles))\n\nns_run = finalise(live, dead_points)"
  }
 ],
 "metadata": {
  "kernelspec": {
   "display_name": ".venv",
   "language": "python",
   "name": "python3"
  },
  "language_info": {
   "codemirror_mode": {
    "name": "ipython",
    "version": 3
   },
   "file_extension": ".py",
   "mimetype": "text/x-python",
   "name": "python",
   "nbconvert_exporter": "python",
   "pygments_lexer": "ipython3",
   "version": "3.13.2"
  }
 },
 "nbformat": 4,
 "nbformat_minor": 2
}