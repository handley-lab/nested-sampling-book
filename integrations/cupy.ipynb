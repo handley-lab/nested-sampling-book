{
 "cells": [
  {
   "cell_type": "markdown",
   "metadata": {},
   "source": "# CuPy\n\nThis example demonstrates how to use BlackJAX nested sampling with CuPy, the GPU-accelerated drop-in replacement for NumPy. CuPy enables GPU computation for likelihood and prior functions while maintaining NumPy-like syntax.\n\n## Prerequisites\n\nInstall the required packages:\n```bash\npip install git+https://github.com/handley-lab/blackjax\npip install cupy-cuda12x numpy tqdm  # Or cupy-cuda11x for CUDA 11.x\n```\n\nNote: CuPy requires CUDA. Choose the appropriate CuPy package for your CUDA version.\n\n## Run nested sampling with CuPy functions"
  },
  {
   "cell_type": "code",
   "execution_count": null,
   "metadata": {},
   "outputs": [],
   "source": "import jax\nimport jax.numpy as jnp\nimport blackjax\nfrom blackjax.ns.utils import finalise\nimport tqdm\nimport numpy as np\nimport cupy as cp\n\nrng_key = jax.random.PRNGKey(0)\n\ndef loglikelihood_fn(theta):\n    return -50.0 * cp.sum((theta - 1) ** 2, axis=1) - 2.5 * cp.log(2 * cp.pi * 0.01)\n\ndef logprior_fn(theta):\n    return -0.5 * cp.sum(theta ** 2, axis=1) - 2.5 * cp.log(2 * cp.pi)\n\ndef wrap_fn(fn, vmap_method='legacy_vectorized'):\n    def numpy_wrapper(theta):\n        theta_gpu = cp.asarray(theta)\n        result_gpu = fn(theta_gpu)\n        return cp.asnumpy(result_gpu)\n    \n    def jax_wrapper(x):\n        out_shape = jax.ShapeDtypeStruct(x.shape[:-1], x.dtype)\n        return jax.pure_callback(numpy_wrapper, out_shape, x, vmap_method=vmap_method)\n    \n    return jax_wrapper\n\nalgo = blackjax.nss(\n    logprior_fn=wrap_fn(logprior_fn),\n    loglikelihood_fn=wrap_fn(loglikelihood_fn),\n    num_delete=50,\n    num_inner_steps=20,\n)\n\nrng_key, sampling_key, initialization_key = jax.random.split(rng_key, 3)\nlive = algo.init(jax.random.normal(initialization_key, (1000, 5)))\nstep = jax.jit(algo.step)\n\ndead_points = []\n\nwith tqdm.tqdm(desc=\"Dead points\", unit=\" dead points\") as pbar:\n    while (not live.logZ_live - live.logZ < -3):\n        rng_key, subkey = jax.random.split(rng_key)\n        live, dead = step(subkey, live)\n        dead_points.append(dead)\n        pbar.update(len(dead.particles))\n\nns_run = finalise(live, dead_points)"
  }
 ],
 "metadata": {
  "kernelspec": {
   "display_name": ".venv",
   "language": "python",
   "name": "python3"
  },
  "language_info": {
   "codemirror_mode": {
    "name": "ipython",
    "version": 3
   },
   "file_extension": ".py",
   "mimetype": "text/x-python",
   "name": "python",
   "nbconvert_exporter": "python",
   "pygments_lexer": "ipython3",
   "version": "3.13.2"
  }
 },
 "nbformat": 4,
 "nbformat_minor": 2
}