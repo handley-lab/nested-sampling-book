{
 "cells": [
  {
   "cell_type": "markdown",
   "metadata": {},
   "source": "# NumPy/SciPy\n\nThis example demonstrates how to use BlackJAX nested sampling with NumPy/SciPy distributions. SciPy provides a wide range of statistical distributions that can be used directly with BlackJAX through the wrapping pattern."
  },
  {
   "cell_type": "code",
   "source": "!pip install git+https://github.com/handley-lab/blackjax\n!pip install scipy numpy tqdm",
   "metadata": {},
   "execution_count": null,
   "outputs": []
  },
  {
   "cell_type": "code",
   "execution_count": null,
   "metadata": {},
   "outputs": [],
   "source": "import jax\nimport jax.numpy as jnp\nimport blackjax\nfrom blackjax.ns.utils import finalise\nimport tqdm\nimport numpy as np\nfrom scipy import stats\n\nrng_key = jax.random.PRNGKey(0)\n\n# Define likelihood and prior using SciPy distributions\n# SciPy's multivariate_normal provides a convenient interface\nloglikelihood_fn = stats.multivariate_normal(np.ones(5), 0.01 * np.eye(5)).logpdf\nlogprior_fn = stats.multivariate_normal(np.zeros(5), np.eye(5)).logpdf\n\ndef wrap_fn(fn, vmap_method='legacy_vectorized'):\n    \"\"\"Wrap NumPy/SciPy function for JAX compatibility\"\"\"\n    def jax_wrapper(x):\n        out_shape = jax.ShapeDtypeStruct(x.shape[:-1], x.dtype)\n        return jax.pure_callback(fn, out_shape, x, vmap_method=vmap_method)\n    \n    return jax_wrapper\n\n# Wrap the SciPy functions for JAX\nloglikelihood_fn = wrap_fn(loglikelihood_fn)\nlogprior_fn = wrap_fn(logprior_fn)\n\nalgo = blackjax.nss(\n    logprior_fn=logprior_fn,\n    loglikelihood_fn=loglikelihood_fn,\n    num_delete=50,\n    num_inner_steps=20,\n)\n\nrng_key, sampling_key, initialization_key = jax.random.split(rng_key, 3)\nlive = algo.init(jax.random.normal(initialization_key, (1000, 5)))\nstep = jax.jit(algo.step)\n\ndead_points = []\n\nwith tqdm.tqdm(desc=\"Dead points\", unit=\" dead points\") as pbar:\n    while (not live.logZ_live - live.logZ < -3):\n        rng_key, subkey = jax.random.split(rng_key)\n        live, dead = step(subkey, live)\n        dead_points.append(dead)\n        pbar.update(len(dead.particles))\n\nns_run = finalise(live, dead_points)"
  }
 ],
 "metadata": {
  "kernelspec": {
   "display_name": ".venv",
   "language": "python",
   "name": "python3"
  },
  "language_info": {
   "codemirror_mode": {
    "name": "ipython",
    "version": 3
   },
   "file_extension": ".py",
   "mimetype": "text/x-python",
   "name": "python",
   "nbconvert_exporter": "python",
   "pygments_lexer": "ipython3",
   "version": "3.13.2"
  }
 },
 "nbformat": 4,
 "nbformat_minor": 2
}