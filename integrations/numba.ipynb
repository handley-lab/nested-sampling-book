{
 "cells": [
  {
   "cell_type": "markdown",
   "metadata": {},
   "source": "# Numba\n\nThis example demonstrates how to use BlackJAX nested sampling with Numba JIT-compiled functions. Numba compiles Python functions to machine code at runtime, providing significant speedups for numerical computations while keeping the code in pure Python.\n\n## Prerequisites\n\nInstall the required packages:\n```bash\npip install git+https://github.com/handley-lab/blackjax\npip install numba numpy tqdm\n```"
  },
  {
   "cell_type": "code",
   "execution_count": null,
   "metadata": {},
   "outputs": [],
   "source": "import jax\nimport jax.numpy as jnp\nimport blackjax\nfrom blackjax.ns.utils import finalise\nimport tqdm\nimport numpy as np\nimport numba\n\nrng_key = jax.random.PRNGKey(0)\n\n@numba.jit(nopython=True)\ndef loglikelihood_fn(theta):\n    return -50.0 * np.sum((theta - 1) ** 2, axis=1) - 2.5 * np.log(2 * np.pi * 0.01)\n\n@numba.jit(nopython=True)\ndef logprior_fn(theta):\n    return -0.5 * np.sum(theta ** 2, axis=1) - 2.5 * np.log(2 * np.pi)\n\ndef wrap_fn(fn, vmap_method='legacy_vectorized'):\n    def numpy_wrapper(theta):\n        return fn(np.asarray(theta))\n    \n    def jax_wrapper(x):\n        out_shape = jax.ShapeDtypeStruct(x.shape[:-1], x.dtype)\n        return jax.pure_callback(numpy_wrapper, out_shape, x, vmap_method=vmap_method)\n    \n    return jax_wrapper\n\nloglikelihood_fn = wrap_fn(loglikelihood_fn)\nlogprior_fn = wrap_fn(logprior_fn)\n\nalgo = blackjax.nss(\n    logprior_fn=logprior_fn,\n    loglikelihood_fn=loglikelihood_fn,\n    num_delete=50,\n    num_inner_steps=20,\n)\n\nrng_key, sampling_key, initialization_key = jax.random.split(rng_key, 3)\nlive = algo.init(jax.random.normal(initialization_key, (1000, 5)))\nstep = jax.jit(algo.step)\n\ndead_points = []\n\nwith tqdm.tqdm(desc=\"Dead points\", unit=\" dead points\") as pbar:\n    while (not live.logZ_live - live.logZ < -3):\n        rng_key, subkey = jax.random.split(rng_key)\n        live, dead = step(subkey, live)\n        dead_points.append(dead)\n        pbar.update(len(dead.particles))\n\nns_run = finalise(live, dead_points)"
  }
 ],
 "metadata": {
  "kernelspec": {
   "display_name": ".venv",
   "language": "python",
   "name": "python3"
  },
  "language_info": {
   "codemirror_mode": {
    "name": "ipython",
    "version": 3
   },
   "file_extension": ".py",
   "mimetype": "text/x-python",
   "name": "python",
   "nbconvert_exporter": "python",
   "pygments_lexer": "ipython3",
   "version": "3.13.2"
  }
 },
 "nbformat": 4,
 "nbformat_minor": 2
}