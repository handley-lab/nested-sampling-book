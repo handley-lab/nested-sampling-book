{
 "cells": [
  {
   "cell_type": "markdown",
   "id": "7c7c10oq0bx",
   "metadata": {},
   "source": [
    "## Prerequisites\n",
    "\n",
    "Install the required dependencies:"
   ]
  },
  {
   "cell_type": "code",
   "execution_count": null,
   "id": "ibs4jedhvj",
   "metadata": {},
   "outputs": [],
   "source": [
    "!pip install git+https://github.com/handley-lab/blackjax\n",
    "!pip install tqdm anesthetic numpy"
   ]
  },
  {
   "cell_type": "markdown",
   "id": "40a4be43",
   "metadata": {},
   "source": [
    "# Custom Inner MCMC Kernels\n",
    "\n",
    "The common top level API presented in other notebooks, `nss` is unfamiliar to those used to the SMC implementations in blackjax. It is a fusion of the generic outer NS kernel with a particular inner kernel, slice sampling.\n",
    "\n",
    "It is instructive then to examine both how this combination is built, and how one could combine a new choice of inner MCMC kernel with the slice sampling procedure."
   ]
  },
  {
   "cell_type": "code",
   "execution_count": 2,
   "id": "64a33813",
   "metadata": {},
   "outputs": [],
   "source": [
    "import tqdm\n",
    "import jax\n",
    "import jax.numpy as jnp\n",
    "from functools import partial\n",
    "from blackjax.ns.adaptive import build_kernel, init\n",
    "from blackjax.ns.base import new_state_and_info, delete_fn\n",
    "from blackjax.ns.utils import repeat_kernel, finalise\n",
    "from blackjax.mcmc.random_walk import build_rmh, RWState\n",
    "from blackjax import SamplingAlgorithm\n"
   ]
  },
  {
   "cell_type": "markdown",
   "id": "89b3952c",
   "metadata": {},
   "source": [
    "## Setting up a constrained random walk\n",
    "\n",
    "To be compatible with nested sampling we have to address two oddities with respect to other algorithms in blackjax:\n",
    "- We need to implement a constrained random walk, rather than purely accepting based on a metropolis acceptance ratio, there is an additional imposed constraint.\n",
    "- To perform the post run reconstruction we need to record the value of the constraint (likelihood), rather than just operating on a density\n",
    "\n",
    "To do this let's construct a random walk kernel in the usual blackjax style, and address these two issues \n",
    "\n",
    "(We also include the kernel tuning for a basic random walk here)"
   ]
  },
  {
   "cell_type": "code",
   "execution_count": 3,
   "id": "d6b854ef",
   "metadata": {},
   "outputs": [],
   "source": [
    "mcmc_kernel = build_rmh()\n",
    "\n",
    "def random_walk_kernel(rng_key, state, logprior_fn, loglikelihood_fn, loglikelihood_0, params):\n",
    "\n",
    "    def proposal_distribution(rng_key, position):\n",
    "        \"\"\" \n",
    "        Proposes a new position by adding Gaussian noise to the current position.\n",
    "        The noise is scaled by the 'sigma' parameter that our tuning function will set.\n",
    "        \"\"\"\n",
    "        step = params['sigma'] * jax.random.normal(rng_key, shape=position.shape) \n",
    "        return position + step\n",
    "\n",
    "    mcmc_state = RWState(position=state.position, logdensity=state.logprior)\n",
    "    new_mcmc_state, mcmc_info = mcmc_kernel(rng_key, mcmc_state, logprior_fn, proposal_distribution)\n",
    "\n",
    "    # As the walk occurs in the prior, we need to separately compute the loglikelihood\n",
    "    loglikelihood = loglikelihood_fn(new_mcmc_state.position)\n",
    "\n",
    "    # Now use a ns.utils function to construct a PartitionedState, a wrapper of the above MCMC state to include the likelihood\n",
    "    new_state, info = new_state_and_info(\n",
    "        position=new_mcmc_state.position,\n",
    "        logprior=new_mcmc_state.logdensity,\n",
    "        loglikelihood=loglikelihood,\n",
    "        info=mcmc_info,\n",
    "        )\n",
    "\n",
    "    # Accept if the loglikelihood is greater than the threshold\n",
    "    new_state = jax.lax.cond(\n",
    "        loglikelihood > loglikelihood_0,\n",
    "        lambda _: new_state,\n",
    "        lambda _: state,\n",
    "        operand=None,\n",
    "    )\n",
    "\n",
    "    return new_state, info\n",
    "\n",
    "def update_random_walk_kernel_params(state, info, params):\n",
    "    \"\"\"A basic tuning function that updates the std of the particles.\"\"\"\n",
    "    sigma = state.particles.std(axis=0)\n",
    "    return {'sigma': sigma}"
   ]
  },
  {
   "cell_type": "markdown",
   "id": "26ff0e68",
   "metadata": {},
   "source": [
    "## Using the adaptive NS functions\n",
    "\n",
    "We now need to compose this set inner kernel with the Nested Sampling \"outer\" kernel\n",
    "\n",
    "Note: We do not check that an MCMC step has been successful here, so may incur some spurious autocorrelation"
   ]
  },
  {
   "cell_type": "code",
   "execution_count": null,
   "id": "6413607c",
   "metadata": {},
   "outputs": [],
   "source": [
    "def ns_mcmc(\n",
    "    logprior_fn,\n",
    "    loglikelihood_fn,\n",
    "    num_delete=10,\n",
    "    num_inner_steps=10,\n",
    "):\n",
    "    \"\"\"\n",
    "    Build a nested sampling MCMC algorithm. This emulates how the `nss` top level api works,\n",
    "    \n",
    "    Parameters\n",
    "    ----------\n",
    "    logprior_fn : callable\n",
    "        Function that computes the log prior probability of the parameters.\n",
    "    loglikelihood_fn : callable\n",
    "        Function that computes the log likelihood of the parameters.\n",
    "    num_delete : int\n",
    "        Number of particles to delete at each step.\n",
    "    num_inner_steps : int\n",
    "        Number of inner MCMC steps to perform.\n",
    "    \n",
    "    Returns\n",
    "    -------\n",
    "    init_fn : callable\n",
    "        Function to initialize the nested sampling state.\n",
    "    step_fn : callable\n",
    "        Function to perform a single step of nested sampling.\n",
    "    \"\"\"\n",
    "    \n",
    "    inner_kernel = repeat_kernel(num_repeats=num_inner_steps)(random_walk_kernel)\n",
    "    _delete_fn = partial(delete_fn, num_delete=num_delete)\n",
    "\n",
    "    step_fn = build_kernel(\n",
    "        logprior_fn,\n",
    "        loglikelihood_fn,\n",
    "        _delete_fn,\n",
    "        inner_kernel,\n",
    "        update_random_walk_kernel_params,\n",
    "    )\n",
    "\n",
    "    init_fn = partial(\n",
    "        init,\n",
    "        logprior_fn=logprior_fn,\n",
    "        loglikelihood_fn=loglikelihood_fn,\n",
    "        update_inner_kernel_params_fn=update_random_walk_kernel_params,\n",
    "    )\n",
    "\n",
    "    return SamplingAlgorithm(init_fn, step_fn)\n"
   ]
  },
  {
   "cell_type": "markdown",
   "id": "2a2d78f0",
   "metadata": {},
   "source": [
    "## Problem definition\n",
    "\n",
    "Define a small fitting problem of a 2D Gaussian"
   ]
  },
  {
   "cell_type": "code",
   "execution_count": 21,
   "id": "243f8106",
   "metadata": {},
   "outputs": [],
   "source": [
    "\n",
    "μ = 0.5\n",
    "σ = 0.1\n",
    "μ0 = 0.0\n",
    "σ0 = 1.0\n",
    "loglikelihood_fn = lambda x: jax.scipy.stats.norm.logpdf(x, loc=μ, scale=σ).sum()\n",
    "logprior_fn = lambda x: jax.scipy.stats.norm.logpdf(x, loc=μ0, scale=σ0).sum()\n",
    "\n",
    "rng_key = jax.random.PRNGKey(0)\n",
    "\n",
    "num_live = 100\n",
    "num_delete = 50\n",
    "num_dims = 2\n",
    "rng_key, prior_key = jax.random.split(rng_key)\n",
    "particles = jax.random.normal(prior_key, (num_live, num_dims)) * σ0 + μ0\n",
    "\n"
   ]
  },
  {
   "cell_type": "markdown",
   "id": "f1e34619",
   "metadata": {},
   "source": [
    "This can be run in a similar way and exported to the plotting tools. Note this inner kernel is not expected to perform well in high dimension or for more complex processes so should be considered more of a pedagogical example"
   ]
  },
  {
   "cell_type": "code",
   "execution_count": 22,
   "id": "06018a97",
   "metadata": {},
   "outputs": [
    {
     "name": "stderr",
     "output_type": "stream",
     "text": [
      "Dead points: 600 dead points [00:00, 830.76 dead points/s]\n"
     ]
    }
   ],
   "source": [
    "nested_sampler = ns_mcmc(\n",
    "    logprior_fn=logprior_fn,\n",
    "    loglikelihood_fn=loglikelihood_fn,\n",
    "    num_delete=num_delete,\n",
    "    num_inner_steps=10,\n",
    ")\n",
    "\n",
    "init_fn = jax.jit(nested_sampler.init)\n",
    "step_fn = jax.jit(nested_sampler.step)\n",
    "\n",
    "live = init_fn(particles)\n",
    "dead = []\n",
    "with tqdm.tqdm(desc=\"Dead points\", unit=\" dead points\") as pbar:\n",
    "    while not live.logZ_live - live.logZ < -3:\n",
    "        rng_key, subkey = jax.random.split(rng_key, 2)\n",
    "        live, dead_info = step_fn(subkey, live)\n",
    "        dead.append(dead_info)\n",
    "        pbar.update(num_delete)\n",
    "\n",
    "dead = finalise(live, dead)\n"
   ]
  },
  {
   "cell_type": "code",
   "execution_count": 23,
   "id": "85fe7000",
   "metadata": {},
   "outputs": [],
   "source": [
    "from anesthetic import NestedSamples\n",
    "columns = [f\"x{i}\" for i in range(num_dims)]\n",
    "labels = [f\"$x_{i}$\" for i in range(num_dims)]\n",
    "samples = NestedSamples(\n",
    "    dead.particles,\n",
    "    logL=dead.loglikelihood,\n",
    "    logL_birth=dead.loglikelihood_birth,\n",
    "    columns=columns,\n",
    "    labels=labels,\n",
    "    logzero=jnp.nan,\n",
    "    dtype=jnp.float64,\n",
    ")"
   ]
  },
  {
   "cell_type": "code",
   "execution_count": 28,
   "id": "c74e8330",
   "metadata": {},
   "outputs": [
    {
     "data": {
      "text/plain": [
       "<matplotlib.legend.Legend at 0x308aa4550>"
      ]
     },
     "execution_count": 28,
     "metadata": {},
     "output_type": "execute_result"
    },
    {
     "data": {
      "image/png": "[encoded data removed]",
      "text/plain": [
       "<Figure size 640x480 with 6 Axes>"
      ]
     },
     "metadata": {},
     "output_type": "display_data"
    }
   ],
   "source": [
    "a=samples.set_beta(0.0).plot_2d(columns, label=\"prior\")\n",
    "samples.set_beta(1.0).plot_2d(a, label=\"posterior\")\n",
    "a.iloc[0, 1].legend()"
   ]
  }
 ],
 "metadata": {
  "kernelspec": {
   "display_name": ".venv",
   "language": "python",
   "name": "python3"
  },
  "language_info": {
   "codemirror_mode": {
    "name": "ipython",
    "version": 3
   },
   "file_extension": ".py",
   "mimetype": "text/x-python",
   "name": "python",
   "nbconvert_exporter": "python",
   "pygments_lexer": "ipython3",
   "version": "3.13.2"
  }
 },
 "nbformat": 4,
 "nbformat_minor": 5
}
