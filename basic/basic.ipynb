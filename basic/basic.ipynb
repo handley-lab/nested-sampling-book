{
 "cells": [
  {
   "cell_type": "code",
   "source": "!pip install git+https://github.com/handley-lab/blackjax\n!pip install anesthetic numpy tqdm matplotlib",
   "metadata": {},
   "execution_count": null,
   "outputs": []
  },
  {
   "cell_type": "markdown",
   "metadata": {},
   "source": [
    "# Walkthrough of Nested Sampling\n",
    "\n",
    "We walk through the same components in the [Quickstart](quickstart.ipynb), to give more detail as to what the choices mean.\n",
    "\n",
    "## Problem definition\n",
    "\n",
    "We show how to use the basic user interface for Nested Slice Sampling. We will set up a 20D problem involving a multivariate unit Gaussian $\\mathcal{N}(0,\\mathbf{I})$ prior, and a multivariate Gaussian likelihood with a randomized mean and covariance. The resulting posterior and normalizing constant is analytically known."
   ]
  },
  {
   "cell_type": "code",
   "execution_count": 1,
   "metadata": {},
   "outputs": [],
   "source": [
    "import jax\n",
    "import jax.numpy as jnp\n",
    "import tqdm\n",
    "\n",
    "import blackjax\n",
    "\n",
    "rng_key = jax.random.PRNGKey(0)\n",
    "\n",
    "d = 20\n",
    "\n",
    "C = jax.random.normal(rng_key, (d, d)) * 0.1\n",
    "like_cov = C @ C.T\n",
    "like_mean = jax.random.normal(rng_key, (d,))\n",
    "\n",
    "prior_mean = jnp.zeros(d)\n",
    "prior_cov = jnp.eye(d) * 1\n"
   ]
  },
  {
   "cell_type": "markdown",
   "metadata": {},
   "source": [
    "## Components needed\n",
    "\n",
    "In a similar style to Sequential Monte Carlo methods available within `blackjax`, We need to declare three pieces to compose the sampling algorithm\n",
    "- A (log) prior density\n",
    "- A (log) likelihood function\n",
    "- An initial population of particles, drawn from the prior. This will remain fixed throughout a run, so the size of this population is a hyperparameter of the algorithm, we will call this `n_live`"
   ]
  },
  {
   "cell_type": "code",
   "execution_count": 2,
   "metadata": {},
   "outputs": [],
   "source": [
    "logprior_density = lambda x: jax.scipy.stats.multivariate_normal.logpdf(\n",
    "    x, prior_mean, prior_cov\n",
    ")\n",
    "\n",
    "loglikelihood_function = lambda x: jax.scipy.stats.multivariate_normal.logpdf(\n",
    "    x, like_mean, like_cov\n",
    ")\n",
    "\n",
    "rng_key, prior_sample_key = jax.random.split(rng_key)\n",
    "n_live = 1000\n",
    "initial_population = jax.random.multivariate_normal(\n",
    "    prior_sample_key, prior_mean, prior_cov, (n_live,)\n",
    ")"
   ]
  },
  {
   "cell_type": "markdown",
   "metadata": {},
   "source": [
    "## Algorithm definition\n",
    "\n",
    "We have already implicitly set one hyperparameter we need, `n_live`, the remaining ones to set are\n",
    "\n",
    "- `num_inner_steps` -- the length of the short Markov chains used to update the population, typically set to some multiple of the dimension of the parameter space, $3 \\times d$ is a good starting point\n",
    "- `num_delete` -- some integer $\\in [1, n_\\mathrm{live} -1]$, how many chains to vectorize over, setting this to approximately 10% of `n_live` is likely good for CPU usage, Up to 50% for GPU.\n",
    "\n",
    "`nss` is defined as a top level API in the `blackjax` library, initialising this function returns a `blackjax.SamplingAlgorithm`. This base type defines the two pieces needed to build a sampling algorithm,\n",
    "- `init` -- A function to initialise `NSState` from particle positions\n",
    "- `step` -- A function to evolve the `NSState` population one step"
   ]
  },
  {
   "cell_type": "code",
   "execution_count": 3,
   "metadata": {},
   "outputs": [],
   "source": [
    "num_inner_steps = 3 * d\n",
    "num_delete = int(n_live*0.1)\n",
    "\n",
    "algo = blackjax.nss(\n",
    "    logprior_fn=logprior_density,\n",
    "    loglikelihood_fn=loglikelihood_function,\n",
    "    num_delete=num_delete,\n",
    "    num_inner_steps=num_inner_steps,\n",
    ")\n",
    "\n",
    "state = algo.init(initial_population)\n"
   ]
  },
  {
   "cell_type": "markdown",
   "metadata": {},
   "source": [
    "The state is constructed as a `NamedTuple`, consisting of the following fields"
   ]
  },
  {
   "cell_type": "code",
   "execution_count": 4,
   "metadata": {},
   "outputs": [
    {
     "name": "stdout",
     "output_type": "stream",
     "text": [
      "State of the Nested Sampler.\n",
      "\n",
      "Attributes\n",
      "----------\n",
      "particles\n",
      "    A PyTree of arrays, where each leaf array has a leading dimension\n",
      "    equal to the number of live particles. Stores the current positions of\n",
      "    the live particles.\n",
      "loglikelihood\n",
      "    An array of log-likelihood values, one for each live particle.\n",
      "loglikelihood_birth\n",
      "    An array storing the log-likelihood threshold that each current live\n",
      "    particle was required to exceed when it was \"born\" (i.e., sampled).\n",
      "    This is used for reconstructing the nested sampling path.\n",
      "logprior\n",
      "    An array of log-prior values, one for each live particle.\n",
      "pid\n",
      "    Particle ID. An array of integers tracking the identity or lineage of\n",
      "    particles, primarily for diagnostic purposes.\n",
      "logX\n",
      "    The log of the current prior volume estimate.\n",
      "logZ\n",
      "    The accumulated log evidence estimate from the \"dead\" points .\n",
      "logZ_live\n",
      "    The current estimate of the log evidence contribution from the live points.\n",
      "inner_kernel_params\n",
      "    A dictionary of parameters for the inner kernel.\n",
      "\n"
     ]
    }
   ],
   "source": [
    "from blackjax.ns.base import NSState\n",
    "print(f\"{NSState.__doc__}\")"
   ]
  },
  {
   "cell_type": "markdown",
   "metadata": {},
   "source": [
    "\n",
    "Iteratively updating the state using `algo.step` is a nested sampling algorithm. To do parameter estimation we need to track what we left behind, another `NamedTuple` this time `NSInfo`. The quantity we read out is the accumulation of many `NSInfo` tuples associated with each state transition. The `NSInfo` consists of the following fields:\n"
   ]
  },
  {
   "cell_type": "code",
   "execution_count": 5,
   "metadata": {},
   "outputs": [
    {
     "name": "stdout",
     "output_type": "stream",
     "text": [
      "Additional information returned at each step of the Nested Sampling algorithm.\n",
      "\n",
      "Attributes\n",
      "----------\n",
      "particles\n",
      "    The PyTree of particles that were marked as \"dead\" (replaced) in the\n",
      "    current step.\n",
      "loglikelihood\n",
      "    The log-likelihood values of the dead particles.\n",
      "loglikelihood_birth\n",
      "    The birth log-likelihood thresholds of the dead particles.\n",
      "logprior\n",
      "    The log-prior values of the dead particles.\n",
      "inner_kernel_info\n",
      "    A NamedTuple (or any PyTree) containing information from the update step\n",
      "    (inner kernel) used to generate new live particles. The content\n",
      "    depends on the specific inner kernel used.\n",
      "\n"
     ]
    }
   ],
   "source": [
    "from blackjax.ns.base import NSInfo\n",
    "print(f\"{NSInfo.__doc__}\")"
   ]
  },
  {
   "cell_type": "markdown",
   "metadata": {},
   "source": [
    "Following the general design pattern of `blackjax`, we set up a compilable `one_step` wrapping around the `algo.step`."
   ]
  },
  {
   "cell_type": "code",
   "execution_count": 6,
   "metadata": {},
   "outputs": [],
   "source": [
    "@jax.jit\n",
    "def one_step(carry, xs):\n",
    "    state, k = carry\n",
    "    k, subk = jax.random.split(k, 2)\n",
    "    state, dead_point = algo.step(subk, state)\n",
    "    return (state, k), dead_point"
   ]
  },
  {
   "cell_type": "markdown",
   "metadata": {},
   "source": [
    "If we know how many steps to take we can now `jax.lax.scan` over this, compose some larger number of steps etc. As we won't in general know how many steps we need, and we need to save every `NSInfo`, we will use a python outer loop. Any inefficiency of this can be lifted by scanning over some multiple of `one_step` to build a coarser step in python."
   ]
  },
  {
   "cell_type": "markdown",
   "metadata": {},
   "source": [
    "## A nested sampling run\n",
    "We will assess whether we have run enough steps of sampling dynamically by checking some properties of the sample state. In this example we will follow conventions of the PolyChord implementation {cite}`Handley_2015`, and check when the remaining live evidence is less than $1e^{-3}$ of the running estimate."
   ]
  },
  {
   "cell_type": "code",
   "execution_count": 7,
   "metadata": {},
   "outputs": [
    {
     "name": "stderr",
     "output_type": "stream",
     "text": [
      "Dead points: 41500 dead points [00:11, 3713.17 dead points/s]\n"
     ]
    }
   ],
   "source": [
    "dead = []\n",
    "\n",
    "with tqdm.tqdm(desc=\"Dead points\", unit=\" dead points\") as pbar:\n",
    "    while not state.logZ_live - state.logZ < -3:\n",
    "        (state, rng_key), dead_info = one_step((state, rng_key), None)\n",
    "        dead.append(dead_info)\n",
    "        pbar.update(num_delete)"
   ]
  },
  {
   "cell_type": "markdown",
   "metadata": {},
   "source": [
    "## Utilities\n",
    "As the calculation is a little unusual, paying little attention to the final state, and more to the discarded infos, we include some utils to do common manipulations\n",
    "\n",
    "- `finalise` -- For correctness the final state should be \"killed\" and rendered as an info, a crude function to do this compresses the list of `dead` and the final `state` into a single cohesive `NSInfo`\n",
    "- `log_weights` -- compute posterior point weights from `NSInfo`, this should reconstruct the normalising constant, typically used in conjunction with `finalise`\n",
    "- `sample` -- draw \"equal weight\" posterior samples from `NSInfo`\n",
    "- `ess` -- simply get an estimate of the Effective Sample Size, useful to know how many posterior points you can roughly usefully sample"
   ]
  },
  {
   "cell_type": "code",
   "execution_count": 8,
   "metadata": {},
   "outputs": [],
   "source": [
    "from blackjax.ns.utils import log_weights, finalise, sample, ess\n",
    "\n",
    "rng_key, weight_key, sample_key = jax.random.split(rng_key,3)\n",
    "final_state = finalise(state,dead)\n",
    "log_w = log_weights(weight_key, final_state, shape=100)\n",
    "samples = sample(sample_key, final_state, shape = n_live)\n",
    "ns_ess = ess(sample_key, final_state)\n",
    "\n",
    "logzs = jax.scipy.special.logsumexp(log_w, axis=0)"
   ]
  },
  {
   "cell_type": "markdown",
   "metadata": {},
   "source": [
    "We can compare our estimate of the normalizing constant and use the samples to construct any useful posterior estimates"
   ]
  },
  {
   "cell_type": "code",
   "execution_count": 9,
   "metadata": {},
   "outputs": [],
   "source": [
    "from jax.scipy.linalg import solve_triangular, cho_solve\n",
    "\n",
    "def compute_logZ(mu_L, Sigma_L, logLmax=0, mu_pi=None, Sigma_pi=None):\n",
    "    \"\"\"\n",
    "    Compute log evidence, posterior covariance, and posterior mean.\n",
    "    \n",
    "    Args:\n",
    "        mu_L: Likelihood mean\n",
    "        Sigma_L: Likelihood covariance\n",
    "        logLmax: Maximum log likelihood value\n",
    "        mu_pi: Prior mean\n",
    "        Sigma_pi: Prior covariance\n",
    "    \n",
    "    Returns:\n",
    "        Tuple of (log evidence, posterior covariance, posterior mean)\n",
    "    \"\"\"\n",
    "    # Use Cholesky decomposition for more stable calculations\n",
    "    L_pi = jnp.linalg.cholesky(Sigma_pi)\n",
    "    L_L = jnp.linalg.cholesky(Sigma_L)\n",
    "    \n",
    "    # Compute precision matrices (inverse covariances)\n",
    "    prec_pi = cho_solve((L_pi, True), jnp.eye(L_pi.shape[0]))\n",
    "    prec_L = cho_solve((L_L, True), jnp.eye(L_L.shape[0]))\n",
    "    \n",
    "    # Compute posterior precision and its Cholesky factor\n",
    "    prec_P = prec_pi + prec_L\n",
    "    L_P = jnp.linalg.cholesky(prec_P)\n",
    "    \n",
    "    # Compute Sigma_P using Cholesky factor\n",
    "    Sigma_P = cho_solve((L_P, True), jnp.eye(L_P.shape[0]))\n",
    "    \n",
    "    # Compute mu_P more stably\n",
    "    b = cho_solve((L_pi, True), mu_pi) + cho_solve((L_L, True), mu_L)\n",
    "    mu_P = cho_solve((L_P, True), b)\n",
    "    \n",
    "    # Compute log determinants using Cholesky factors\n",
    "    logdet_Sigma_P = -2 * jnp.sum(jnp.log(jnp.diag(L_P)))\n",
    "    logdet_Sigma_pi = 2 * jnp.sum(jnp.log(jnp.diag(L_pi)))\n",
    "    \n",
    "    # Compute quadratic forms using Cholesky factors\n",
    "    diff_pi = mu_P - mu_pi\n",
    "    diff_L = mu_P - mu_L\n",
    "    quad_pi = jnp.sum(jnp.square(solve_triangular(L_pi, diff_pi, lower=True)))\n",
    "    quad_L = jnp.sum(jnp.square(solve_triangular(L_L, diff_L, lower=True)))\n",
    "    \n",
    "    return (\n",
    "        (\n",
    "            logLmax\n",
    "            + logdet_Sigma_P / 2\n",
    "            - logdet_Sigma_pi / 2\n",
    "            - quad_pi / 2\n",
    "            - quad_L / 2\n",
    "        ),\n",
    "        Sigma_P,\n",
    "        mu_P,\n",
    "    )\n",
    "\n",
    "log_analytic_evidence, post_cov, post_mean = compute_logZ(\n",
    "    like_mean,\n",
    "    like_cov,\n",
    "    mu_pi=prior_mean,\n",
    "    Sigma_pi=prior_cov,\n",
    "    logLmax=loglikelihood_function(like_mean),\n",
    ")"
   ]
  },
  {
   "cell_type": "code",
   "execution_count": 10,
   "metadata": {},
   "outputs": [
    {
     "name": "stdout",
     "output_type": "stream",
     "text": [
      "ESS: 9875\n",
      "logZ estimate: -32.75 +- 0.19\n",
      "analytic logZ: -32.83\n"
     ]
    }
   ],
   "source": [
    "print(f\"ESS: {int(ns_ess)}\")\n",
    "print(f\"logZ estimate: {logzs.mean():.2f} +- {logzs.std():.2f}\")\n",
    "print(f\"analytic logZ: {log_analytic_evidence:.2f}\")"
   ]
  },
  {
   "cell_type": "markdown",
   "metadata": {},
   "source": [
    "Lastly we can use the particles themselves to do parameter inference, lets look at the first corner of our 20D parameter space"
   ]
  },
  {
   "cell_type": "code",
   "execution_count": 11,
   "metadata": {},
   "outputs": [
    {
     "data": {
      "text/plain": [
       "<matplotlib.legend.Legend at 0x379add400>"
      ]
     },
     "execution_count": 11,
     "metadata": {},
     "output_type": "execute_result"
    },
    {
     "data": {
      "image/png": "[encoded data removed]",
      "text/plain": [
       "<Figure size 640x480 with 1 Axes>"
      ]
     },
     "metadata": {},
     "output_type": "display_data"
    }
   ],
   "source": [
    "import matplotlib.pyplot as plt\n",
    "\n",
    "posterior_truth = jax.random.multivariate_normal(\n",
    "    rng_key, post_mean, post_cov, (n_live,)\n",
    ")\n",
    "\n",
    "plt.scatter(\n",
    "    initial_population[..., 0], initial_population[..., 1], label=\"prior\"\n",
    ")\n",
    "plt.scatter(\n",
    "    posterior_truth[..., 0], posterior_truth[..., 1], label=\"posterior\"\n",
    ")\n",
    "plt.scatter(\n",
    "    samples[..., 0], samples[..., 1], label=\"nested sampling posterior\"\n",
    ")\n",
    "plt.legend()"
   ]
  }
 ],
 "metadata": {
  "kernelspec": {
   "display_name": "nested-sampling-book (3.13.3)",
   "language": "python",
   "name": "python3"
  },
  "language_info": {
   "codemirror_mode": {
    "name": "ipython",
    "version": 3
   },
   "file_extension": ".py",
   "mimetype": "text/x-python",
   "name": "python",
   "nbconvert_exporter": "python",
   "pygments_lexer": "ipython3",
   "version": "3.13.3"
  }
 },
 "nbformat": 4,
 "nbformat_minor": 2
}